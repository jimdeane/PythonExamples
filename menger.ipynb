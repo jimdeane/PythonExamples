{
 "cells": [
  {
   "cell_type": "code",
   "execution_count": null,
   "metadata": {
    "scrolled": true
   },
   "outputs": [
    {
     "data": {
      "application/vnd.jupyter.widget-view+json": {
       "model_id": "935a6053237348a8b1d4d1be5488d87f",
       "version_major": 2,
       "version_minor": 0
      },
      "text/plain": [
       "Renderer(camera=PerspectiveCamera(children=(DirectionalLight(color='white', intensity=0.5, position=(3.0, 5.0,…"
      ]
     },
     "metadata": {},
     "output_type": "display_data"
    }
   ],
   "source": [
    "class Cube():\n",
    "    def __init__(self,x,y,z, px=0,py=0,pz=0):\n",
    "        self.x = x\n",
    "        self.y = y\n",
    "        self.z = z\n",
    "        self.colour =  MeshLambertMaterial(color='red')\n",
    "        self.position = [2,1,0]\n",
    "        self.geometry = Mesh(geometry=BoxGeometry(self.x,self.y,self.z), material=self.colour,position=self.position, scale = (1,1,1))\n",
    "       \n",
    "    def setColour(self, colour):\n",
    "        self.geometry.material =  MeshLambertMaterial(color=colour)\n",
    "\n",
    "    def setScale(self, x,y,z):\n",
    "        self.geometry.scale = (x,y,z)        \n",
    "        return   \n",
    "    \n",
    "    def display(self, scene):\n",
    "        scene.add(children=[ self.geometry ])\n",
    "        return\n",
    "    \n",
    "    def setPosition(self, x,y,z):\n",
    "        self.geometry.position = [x,y,z]\n",
    "          \n",
    "from pythreejs import *\n",
    "import time, math\n",
    "c = PerspectiveCamera(120,position=[150, 6, 10], up=[10, 20, 0],\n",
    "                      children=[DirectionalLight(color='white', position=[3, 5, 1], intensity=0.5)])\n",
    "\n",
    "scene = Scene(children=[ c, AmbientLight(color='#777777')])\n",
    "\n",
    "renderer = Renderer(camera=c, \n",
    "                    scene=scene, \n",
    "                    controls=[OrbitControls(controlling=c)],\n",
    "                    width=500, height=500)\n",
    "display(renderer)\n",
    "\n",
    "\n",
    "cube = Cube(45,45,45)\n",
    "cube.display(scene)\n",
    "cube.setColour('blue')\n",
    "\n",
    "cube2 = Cube(45,45,45)\n",
    "cube2.setPosition(1,1,55)\n",
    "cube2.display(scene)\n",
    "\n",
    "i = 0.\n",
    "for i in range(1, 6500, 1):\n",
    "    cube2.geometry.rotateX(.01)\n",
    "    cube2.geometry.rotateY(.01)\n",
    "    cube2.geometry.rotateZ(.01)\n",
    "    time.sleep(.01)\n",
    "    "
   ]
  },
  {
   "cell_type": "code",
   "execution_count": null,
   "metadata": {},
   "outputs": [],
   "source": []
  }
 ],
 "metadata": {
  "kernelspec": {
   "display_name": "Python 3",
   "language": "python",
   "name": "python3"
  },
  "language_info": {
   "codemirror_mode": {
    "name": "ipython",
    "version": 3
   },
   "file_extension": ".py",
   "mimetype": "text/x-python",
   "name": "python",
   "nbconvert_exporter": "python",
   "pygments_lexer": "ipython3",
   "version": "3.7.1"
  }
 },
 "nbformat": 4,
 "nbformat_minor": 2
}
