{
 "cells": [
  {
   "cell_type": "code",
   "execution_count": 2,
   "metadata": {
    "tags": []
   },
   "outputs": [
    {
     "output_type": "stream",
     "name": "stdout",
     "text": "Missing pages were 99 and 100\n"
    }
   ],
   "source": [
    "maxSum = 15000  \n",
    "import math\n",
    "def sum(n) :\n",
    "    return n*(n+1)/2\n",
    "x=0\n",
    "while True:\n",
    "    x+=1\n",
    "    y=sum(x)\n",
    "    if y > maxSum:\n",
    "        break\n",
    "missing=int((sum(x)-maxSum-1)/2)\n",
    "print(\"Missing pages were\",missing, \"and\", missing+1)"
   ]
  },
  {
   "cell_type": "code",
   "execution_count": null,
   "metadata": {},
   "outputs": [],
   "source": []
  },
  {
   "cell_type": "code",
   "execution_count": null,
   "metadata": {},
   "outputs": [],
   "source": []
  }
 ],
 "metadata": {
  "kernelspec": {
   "display_name": "Python 3",
   "language": "python",
   "name": "python3"
  },
  "language_info": {
   "codemirror_mode": {
    "name": "ipython",
    "version": 3
   },
   "file_extension": ".py",
   "mimetype": "text/x-python",
   "name": "python",
   "nbconvert_exporter": "python",
   "pygments_lexer": "ipython3",
   "version": "3.7.1"
  }
 },
 "nbformat": 4,
 "nbformat_minor": 2
}