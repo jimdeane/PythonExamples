{
 "cells": [
  {
   "cell_type": "code",
   "execution_count": null,
   "metadata": {},
   "outputs": [],
   "source": [
    "from math import pi\n",
    "import time\n",
    "from ipycanvas import Canvas\n",
    "\n",
    "canvas = Canvas(width=300, height=300)\n",
    "canvas.line_width = 3\n",
    "for x in range(0, 6):\n",
    "    for y in range(0, 6):\n",
    "        # print(x, y)\n",
    "        canvas.stroke_arc(x*50+10, y*50+10, 10, 0, 2 * pi)\n",
    "        canvas.font = '8px serif'\n",
    "        canvas.line_width = 1\n",
    "        canvas.stroke_text(x, x*50+10, y*50+10)\n",
    "        canvas\n",
    "        #canvas\n",
    "        time.sleep(0.51)\n",
    "# Draw simple triangle shape\n",
    "canvas.line_width = 5\n",
    "canvas.stroke_style = \"blue\"\n",
    "canvas.set_line_dash([5,5])\n",
    "canvas.begin_path()\n",
    "canvas.move_to(10, 10)\n",
    "canvas.line_to(10, 260)\n",
    "canvas.line_to(260, 260)\n",
    "canvas.line_to(260, 10)\n",
    "canvas.line_to(10, 10)\n",
    "canvas.stroke()\n",
    "canvas"
   ]
  },
  {
   "cell_type": "code",
   "execution_count": null,
   "metadata": {},
   "outputs": [],
   "source": []
  },
  {
   "cell_type": "code",
   "execution_count": null,
   "metadata": {},
   "outputs": [],
   "source": []
  }
 ],
 "metadata": {
  "kernelspec": {
   "display_name": "Python 3",
   "language": "python",
   "name": "python3"
  },
  "language_info": {
   "codemirror_mode": {
    "name": "ipython",
    "version": 3
   },
   "file_extension": ".py",
   "mimetype": "text/x-python",
   "name": "python",
   "nbconvert_exporter": "python",
   "pygments_lexer": "ipython3",
   "version": "3.7.1"
  }
 },
 "nbformat": 4,
 "nbformat_minor": 2
}
